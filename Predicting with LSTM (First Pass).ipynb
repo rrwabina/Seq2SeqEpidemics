{
 "cells": [
  {
   "cell_type": "code",
   "execution_count": 1,
   "metadata": {},
   "outputs": [],
   "source": [
    "import torch\n",
    "from torch.autograd import Variable\n",
    "import torchvision.transforms as transforms\n",
    "import torchvision.datasets as dsets"
   ]
  },
  {
   "cell_type": "code",
   "execution_count": 2,
   "metadata": {},
   "outputs": [],
   "source": [
    "#adapted from\n",
    "#https://stackabuse.com/time-series-prediction-using-lstm-with-pytorch-in-python/"
   ]
  },
  {
   "cell_type": "code",
   "execution_count": 3,
   "metadata": {},
   "outputs": [
    {
     "data": {
      "text/html": [
       "<div>\n",
       "<style scoped>\n",
       "    .dataframe tbody tr th:only-of-type {\n",
       "        vertical-align: middle;\n",
       "    }\n",
       "\n",
       "    .dataframe tbody tr th {\n",
       "        vertical-align: top;\n",
       "    }\n",
       "\n",
       "    .dataframe thead th {\n",
       "        text-align: right;\n",
       "    }\n",
       "</style>\n",
       "<table border=\"1\" class=\"dataframe\">\n",
       "  <thead>\n",
       "    <tr style=\"text-align: right;\">\n",
       "      <th></th>\n",
       "      <th>YEAR</th>\n",
       "      <th>WEEK</th>\n",
       "      <th>% WEIGHTED ILI</th>\n",
       "      <th>%UNWEIGHTED ILI</th>\n",
       "      <th>AGE 0-4</th>\n",
       "      <th>AGE 5-24</th>\n",
       "      <th>AGE 65</th>\n",
       "      <th>ILITOTAL</th>\n",
       "      <th>NUM. OF PROVIDERS</th>\n",
       "      <th>TOTAL PATIENTS</th>\n",
       "    </tr>\n",
       "  </thead>\n",
       "  <tbody>\n",
       "    <tr>\n",
       "      <td>0</td>\n",
       "      <td>2004</td>\n",
       "      <td>40</td>\n",
       "      <td>0.982275</td>\n",
       "      <td>0.897159</td>\n",
       "      <td>877</td>\n",
       "      <td>1256</td>\n",
       "      <td>185</td>\n",
       "      <td>3171</td>\n",
       "      <td>1176</td>\n",
       "      <td>353449</td>\n",
       "    </tr>\n",
       "    <tr>\n",
       "      <td>1</td>\n",
       "      <td>2004</td>\n",
       "      <td>41</td>\n",
       "      <td>1.018210</td>\n",
       "      <td>1.022480</td>\n",
       "      <td>1071</td>\n",
       "      <td>1373</td>\n",
       "      <td>216</td>\n",
       "      <td>3631</td>\n",
       "      <td>1187</td>\n",
       "      <td>355116</td>\n",
       "    </tr>\n",
       "    <tr>\n",
       "      <td>2</td>\n",
       "      <td>2004</td>\n",
       "      <td>42</td>\n",
       "      <td>1.176800</td>\n",
       "      <td>1.062960</td>\n",
       "      <td>1240</td>\n",
       "      <td>1534</td>\n",
       "      <td>226</td>\n",
       "      <td>4019</td>\n",
       "      <td>1267</td>\n",
       "      <td>378094</td>\n",
       "    </tr>\n",
       "    <tr>\n",
       "      <td>3</td>\n",
       "      <td>2004</td>\n",
       "      <td>43</td>\n",
       "      <td>1.301210</td>\n",
       "      <td>1.146960</td>\n",
       "      <td>1190</td>\n",
       "      <td>1671</td>\n",
       "      <td>285</td>\n",
       "      <td>4369</td>\n",
       "      <td>1293</td>\n",
       "      <td>380921</td>\n",
       "    </tr>\n",
       "    <tr>\n",
       "      <td>4</td>\n",
       "      <td>2004</td>\n",
       "      <td>44</td>\n",
       "      <td>1.277460</td>\n",
       "      <td>1.204950</td>\n",
       "      <td>1327</td>\n",
       "      <td>1718</td>\n",
       "      <td>291</td>\n",
       "      <td>4551</td>\n",
       "      <td>1302</td>\n",
       "      <td>377692</td>\n",
       "    </tr>\n",
       "    <tr>\n",
       "      <td>...</td>\n",
       "      <td>...</td>\n",
       "      <td>...</td>\n",
       "      <td>...</td>\n",
       "      <td>...</td>\n",
       "      <td>...</td>\n",
       "      <td>...</td>\n",
       "      <td>...</td>\n",
       "      <td>...</td>\n",
       "      <td>...</td>\n",
       "      <td>...</td>\n",
       "    </tr>\n",
       "    <tr>\n",
       "      <td>804</td>\n",
       "      <td>2020</td>\n",
       "      <td>10</td>\n",
       "      <td>5.130780</td>\n",
       "      <td>5.290100</td>\n",
       "      <td>13581</td>\n",
       "      <td>25957</td>\n",
       "      <td>5586</td>\n",
       "      <td>77452</td>\n",
       "      <td>2853</td>\n",
       "      <td>1464094</td>\n",
       "    </tr>\n",
       "    <tr>\n",
       "      <td>805</td>\n",
       "      <td>2020</td>\n",
       "      <td>11</td>\n",
       "      <td>5.631160</td>\n",
       "      <td>6.345940</td>\n",
       "      <td>13834</td>\n",
       "      <td>27321</td>\n",
       "      <td>6603</td>\n",
       "      <td>88341</td>\n",
       "      <td>2769</td>\n",
       "      <td>1392087</td>\n",
       "    </tr>\n",
       "    <tr>\n",
       "      <td>806</td>\n",
       "      <td>2020</td>\n",
       "      <td>12</td>\n",
       "      <td>6.357030</td>\n",
       "      <td>7.450870</td>\n",
       "      <td>10612</td>\n",
       "      <td>17276</td>\n",
       "      <td>6925</td>\n",
       "      <td>77817</td>\n",
       "      <td>2697</td>\n",
       "      <td>1044402</td>\n",
       "    </tr>\n",
       "    <tr>\n",
       "      <td>807</td>\n",
       "      <td>2020</td>\n",
       "      <td>13</td>\n",
       "      <td>5.178310</td>\n",
       "      <td>6.391350</td>\n",
       "      <td>5064</td>\n",
       "      <td>8245</td>\n",
       "      <td>6393</td>\n",
       "      <td>52802</td>\n",
       "      <td>2561</td>\n",
       "      <td>826148</td>\n",
       "    </tr>\n",
       "    <tr>\n",
       "      <td>808</td>\n",
       "      <td>2020</td>\n",
       "      <td>14</td>\n",
       "      <td>3.864320</td>\n",
       "      <td>5.022800</td>\n",
       "      <td>2307</td>\n",
       "      <td>4737</td>\n",
       "      <td>5236</td>\n",
       "      <td>35539</td>\n",
       "      <td>2362</td>\n",
       "      <td>707553</td>\n",
       "    </tr>\n",
       "  </tbody>\n",
       "</table>\n",
       "<p>809 rows × 10 columns</p>\n",
       "</div>"
      ],
      "text/plain": [
       "     YEAR  WEEK  % WEIGHTED ILI  %UNWEIGHTED ILI  AGE 0-4  AGE 5-24  AGE 65  \\\n",
       "0    2004    40        0.982275         0.897159      877      1256     185   \n",
       "1    2004    41        1.018210         1.022480     1071      1373     216   \n",
       "2    2004    42        1.176800         1.062960     1240      1534     226   \n",
       "3    2004    43        1.301210         1.146960     1190      1671     285   \n",
       "4    2004    44        1.277460         1.204950     1327      1718     291   \n",
       "..    ...   ...             ...              ...      ...       ...     ...   \n",
       "804  2020    10        5.130780         5.290100    13581     25957    5586   \n",
       "805  2020    11        5.631160         6.345940    13834     27321    6603   \n",
       "806  2020    12        6.357030         7.450870    10612     17276    6925   \n",
       "807  2020    13        5.178310         6.391350     5064      8245    6393   \n",
       "808  2020    14        3.864320         5.022800     2307      4737    5236   \n",
       "\n",
       "     ILITOTAL  NUM. OF PROVIDERS  TOTAL PATIENTS  \n",
       "0        3171               1176          353449  \n",
       "1        3631               1187          355116  \n",
       "2        4019               1267          378094  \n",
       "3        4369               1293          380921  \n",
       "4        4551               1302          377692  \n",
       "..        ...                ...             ...  \n",
       "804     77452               2853         1464094  \n",
       "805     88341               2769         1392087  \n",
       "806     77817               2697         1044402  \n",
       "807     52802               2561          826148  \n",
       "808     35539               2362          707553  \n",
       "\n",
       "[809 rows x 10 columns]"
      ]
     },
     "execution_count": 3,
     "metadata": {},
     "output_type": "execute_result"
    }
   ],
   "source": [
    "# Step 1. Load Dataset\n",
    "import pandas as pd\n",
    "ilinet_full = pd.DataFrame(pd.read_csv('ILINet.csv'))\n",
    "ilinet_full"
   ]
  },
  {
   "cell_type": "code",
   "execution_count": 4,
   "metadata": {},
   "outputs": [
    {
     "data": {
      "text/plain": [
       "[<matplotlib.lines.Line2D at 0x1286bd850>]"
      ]
     },
     "execution_count": 4,
     "metadata": {},
     "output_type": "execute_result"
    }
   ],
   "source": [
    "import matplotlib.pyplot as plt\n",
    "plt.plot(ilinet_full['ILITOTAL'])"
   ]
  },
  {
   "cell_type": "code",
   "execution_count": 5,
   "metadata": {},
   "outputs": [
    {
     "data": {
      "text/plain": [
       "[<matplotlib.lines.Line2D at 0x1a2b137290>]"
      ]
     },
     "execution_count": 5,
     "metadata": {},
     "output_type": "execute_result"
    },
    {
     "data": {
      "image/png": "[encoded data removed]",
      "text/plain": [
       "<Figure size 432x288 with 1 Axes>"
      ]
     },
     "metadata": {
      "needs_background": "light"
     },
     "output_type": "display_data"
    }
   ],
   "source": [
    "from sklearn.preprocessing import MinMaxScaler\n",
    "scaler = MinMaxScaler(feature_range=(-1, 1))\n",
    "ilinet_full['ILITOTAL']=scaler.fit_transform(ilinet_full['ILITOTAL'].values.reshape(-1, 1))\n",
    "plt.plot(ilinet_full['ILITOTAL'])"
   ]
  },
  {
   "cell_type": "code",
   "execution_count": 6,
   "metadata": {},
   "outputs": [],
   "source": [
    "end_weeks=ilinet_full.index[ilinet_full['WEEK'] == 39].tolist()\n",
    "start_weeks=ilinet_full.index[ilinet_full['WEEK'] == 40].tolist()"
   ]
  },
  {
   "cell_type": "code",
   "execution_count": 7,
   "metadata": {},
   "outputs": [
    {
     "name": "stdout",
     "output_type": "stream",
     "text": [
      "[51, 103, 155, 207, 260, 312, 364, 416, 468, 520, 573, 625, 677, 729, 781]\n",
      "729\n",
      "80\n"
     ]
    }
   ],
   "source": [
    "print(end_weeks)\n",
    "train_data_size = 729\n",
    "\n",
    "# divide data into training and testing,\n",
    "train_data =ilinet_full['ILITOTAL'].values[0:train_data_size]\n",
    "test_data =ilinet_full['ILITOTAL'].values[train_data_size:]\n",
    "print(len(train_data))\n",
    "print(len(test_data))"
   ]
  },
  {
   "cell_type": "code",
   "execution_count": 8,
   "metadata": {},
   "outputs": [],
   "source": [
    "train_data = torch.FloatTensor(train_data).view(-1)\n",
    "train_window = 52\n",
    "\n",
    "def create_inout_sequences(input_data, tw):\n",
    "    inout_seq = []\n",
    "    L = len(input_data)\n",
    "    for i in range(L-tw):\n",
    "        train_seq = input_data[i:i+tw]\n",
    "        train_label = input_data[i+tw:i+tw+1]\n",
    "        inout_seq.append((train_seq ,train_label))\n",
    "    return inout_seq\n",
    "\n",
    "train_inout_seq = create_inout_sequences(train_data, train_window)"
   ]
  },
  {
   "cell_type": "code",
   "execution_count": 9,
   "metadata": {},
   "outputs": [],
   "source": [
    "import torch.nn as nn\n",
    "class LSTM(nn.Module):\n",
    "    def __init__(self, input_size=1, hidden_layer_size=100, output_size=1):\n",
    "        super().__init__()\n",
    "        self.hidden_layer_size = hidden_layer_size\n",
    "\n",
    "        self.lstm = nn.LSTM(input_size, hidden_layer_size)\n",
    "\n",
    "        self.linear = nn.Linear(hidden_layer_size, output_size)\n",
    "\n",
    "        self.hidden_cell = (torch.zeros(1,1,self.hidden_layer_size),\n",
    "                            torch.zeros(1,1,self.hidden_layer_size))\n",
    "\n",
    "    def forward(self, input_seq):\n",
    "        lstm_out, self.hidden_cell = self.lstm(input_seq.view(len(input_seq) ,1, -1), self.hidden_cell)\n",
    "        predictions = self.linear(lstm_out.view(len(input_seq), -1))\n",
    "        return predictions[-1]"
   ]
  },
  {
   "cell_type": "code",
   "execution_count": 10,
   "metadata": {},
   "outputs": [],
   "source": [
    "model = LSTM()\n",
    "loss_function = nn.MSELoss()\n",
    "optimizer = torch.optim.Adam(model.parameters(), lr=0.001)"
   ]
  },
  {
   "cell_type": "code",
   "execution_count": 11,
   "metadata": {},
   "outputs": [
    {
     "name": "stdout",
     "output_type": "stream",
     "text": [
      "LSTM(\n",
      "  (lstm): LSTM(1, 100)\n",
      "  (linear): Linear(in_features=100, out_features=1, bias=True)\n",
      ")\n"
     ]
    }
   ],
   "source": [
    "print(model)"
   ]
  },
  {
   "cell_type": "code",
   "execution_count": 12,
   "metadata": {},
   "outputs": [
    {
     "name": "stdout",
     "output_type": "stream",
     "text": [
      "epoch:   1 loss: 0.01850742\n",
      "epoch:  26 loss: 0.00065180\n",
      "epoch:  51 loss: 0.00001893\n",
      "epoch:  76 loss: 0.00050087\n",
      "epoch: 101 loss: 0.00031161\n",
      "epoch: 126 loss: 0.00017127\n",
      "epoch: 149 loss: 0.0001179104\n"
     ]
    }
   ],
   "source": [
    "epochs = 150\n",
    "\n",
    "for i in range(epochs):\n",
    "    for seq, labels in train_inout_seq:\n",
    "        optimizer.zero_grad()\n",
    "        model.hidden_cell = (torch.zeros(1, 1, model.hidden_layer_size),\n",
    "                        torch.zeros(1, 1, model.hidden_layer_size))\n",
    "\n",
    "        y_pred = model(seq)\n",
    "\n",
    "        single_loss = loss_function(y_pred, labels)\n",
    "        single_loss.backward()\n",
    "        optimizer.step()\n",
    "\n",
    "    if i%25 == 1:\n",
    "        print(f'epoch: {i:3} loss: {single_loss.item():10.8f}')\n",
    "\n",
    "print(f'epoch: {i:3} loss: {single_loss.item():10.10f}')"
   ]
  },
  {
   "cell_type": "code",
   "execution_count": 16,
   "metadata": {},
   "outputs": [
    {
     "name": "stdout",
     "output_type": "stream",
     "text": [
      "[-0.8511930704116821, -0.7825999855995178, -0.7747920155525208, -0.7556005716323853, -0.7279991507530212, -0.7054327130317688, -0.6691659092903137, -0.6174474358558655, -0.6553196310997009, -0.5835157632827759, -0.5615696310997009, -0.44213369488716125, -0.23635435104370117, -0.19123978912830353, -0.15449868142604828, 0.018662434071302414, 0.1331363171339035, 0.3938266336917877, 0.5517914295196533, 0.5853582620620728, 0.3734675943851471, -0.04949284717440605, -0.35890981554985046, -0.48535099625587463, -0.5436369180679321, -0.5825489163398743, -0.6393206119537354, -0.6688557863235474, -0.7128210663795471, -0.7455669641494751, -0.7513499855995178, -0.7743542194366455, -0.8048562407493591, -0.8149445652961731, -0.8226065635681152, -0.8415426015853882, -0.8582348227500916, -0.8786668181419373, -0.8823153972625732, -0.890086829662323, -0.9026561379432678, -0.8982231616973877, -0.9112668037414551, -0.9165389537811279, -0.9144410490989685, -0.909898579120636, -0.8975663781166077, -0.883227527141571, -0.8688521385192871, -0.8429655432701111, -0.8332056403160095, -0.8127006888389587]\n"
     ]
    }
   ],
   "source": [
    "fut_pred = 52\n",
    "\n",
    "test_inputs = train_data[-train_window:].tolist()\n",
    "print(test_inputs)"
   ]
  },
  {
   "cell_type": "code",
   "execution_count": 17,
   "metadata": {},
   "outputs": [],
   "source": [
    "model.eval()\n",
    "\n",
    "for i in range(fut_pred):\n",
    "    seq = torch.FloatTensor(test_inputs[-train_window:])\n",
    "    with torch.no_grad():\n",
    "        model.hidden = (torch.zeros(1, 1, model.hidden_layer_size),\n",
    "                        torch.zeros(1, 1, model.hidden_layer_size))\n",
    "        test_inputs.append(model(seq).item())"
   ]
  },
  {
   "cell_type": "code",
   "execution_count": 19,
   "metadata": {},
   "outputs": [
    {
     "name": "stdout",
     "output_type": "stream",
     "text": [
      "[-0.779612   -0.74931288 -0.71462142 -0.67837191 -0.63914889 -0.59655929\n",
      " -0.54993582 -0.49871498 -0.44251308 -0.38089985 -0.31460103 -0.24515797\n",
      " -0.16751969 -0.06213091  0.07820395  0.20663098  0.29048121  0.26639646\n",
      "  0.09577113 -0.13718608 -0.31477717 -0.42196843 -0.49392995 -0.55314952\n",
      " -0.6011579  -0.63867605 -0.66735673 -0.68895698 -0.70517862 -0.71755821\n",
      " -0.72737503 -0.73565245 -0.74320579 -0.75062871 -0.75829768 -0.76642054\n",
      " -0.77505213 -0.78409702 -0.79333919 -0.8024528  -0.81106269 -0.81878752\n",
      " -0.82529694 -0.83034277 -0.8337791  -0.83555245 -0.83567715 -0.83420855\n",
      " -0.83121264 -0.82674539 -0.82085067 -0.81352907]\n"
     ]
    }
   ],
   "source": [
    "import numpy as np\n",
    "actual_predictions = np.array(test_inputs[train_window:])\n",
    "print(actual_predictions)"
   ]
  },
  {
   "cell_type": "code",
   "execution_count": 20,
   "metadata": {},
   "outputs": [
    {
     "name": "stdout",
     "output_type": "stream",
     "text": [
      "[729 730 731 732 733 734 735 736 737 738 739 740 741 742 743 744 745 746\n",
      " 747 748 749 750 751 752 753 754 755 756 757 758 759 760 761 762 763 764\n",
      " 765 766 767 768 769 770 771 772 773 774 775 776 777 778 779 780]\n"
     ]
    },
    {
     "data": {
      "image/png": "[encoded data removed]",
      "text/plain": [
       "<Figure size 432x288 with 1 Axes>"
      ]
     },
     "metadata": {
      "needs_background": "light"
     },
     "output_type": "display_data"
    }
   ],
   "source": [
    "x = np.arange(len(train_data), len(train_data)+52, 1)\n",
    "print(x)\n",
    "plt.plot(ilinet_full['ILITOTAL'].values[0:len(train_data)+52])\n",
    "plt.plot(x,actual_predictions)\n",
    "plt.show()"
   ]
  },
  {
   "cell_type": "code",
   "execution_count": 21,
   "metadata": {},
   "outputs": [
    {
     "data": {
      "image/png": "[encoded data removed]",
      "text/plain": [
       "<Figure size 432x288 with 1 Axes>"
      ]
     },
     "metadata": {
      "needs_background": "light"
     },
     "output_type": "display_data"
    }
   ],
   "source": [
    "plt.plot(ilinet_full['ILITOTAL'].values[len(train_data):len(train_data)+52])\n",
    "plt.plot(actual_predictions)\n",
    "plt.show()"
   ]
  },
  {
   "cell_type": "markdown",
   "metadata": {},
   "source": [
    "Next steps:\n",
    "\n",
    "- use less training data to predict\n",
    "\n",
    "- smaller training window (try 10 instead of 52)\n",
    "\n",
    "- use hopitalization data instread of total case counts (easy change)\n",
    "\n",
    "- try a more sophisticated model\n"
   ]
  },
  {
   "cell_type": "code",
   "execution_count": null,
   "metadata": {},
   "outputs": [],
   "source": []
  }
 ],
 "metadata": {
  "kernelspec": {
   "display_name": "Python 3",
   "language": "python",
   "name": "python3"
  },
  "language_info": {
   "codemirror_mode": {
    "name": "ipython",
    "version": 3
   },
   "file_extension": ".py",
   "mimetype": "text/x-python",
   "name": "python",
   "nbconvert_exporter": "python",
   "pygments_lexer": "ipython3",
   "version": "3.7.4"
  }
 },
 "nbformat": 4,
 "nbformat_minor": 2
}
