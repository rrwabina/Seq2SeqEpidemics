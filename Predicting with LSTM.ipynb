{
 "cells": [
  {
   "cell_type": "code",
   "execution_count": 125,
   "metadata": {},
   "outputs": [],
   "source": [
    "import torch\n",
    "from torch.autograd import Variable\n",
    "import torchvision.transforms as transforms\n",
    "import torchvision.datasets as dsets\n",
    "import pandas as pd\n",
    "import matplotlib.pyplot as plt\n",
    "import torch.nn as nn\n",
    "import numpy as np\n",
    "from sklearn.preprocessing import MinMaxScaler\n",
    "#adapted from\n",
    "#https://stackabuse.com/time-series-prediction-using-lstm-with-pytorch-in-python/"
   ]
  },
  {
   "cell_type": "code",
   "execution_count": 126,
   "metadata": {},
   "outputs": [
    {
     "data": {
      "text/html": [
       "<div>\n",
       "<style scoped>\n",
       "    .dataframe tbody tr th:only-of-type {\n",
       "        vertical-align: middle;\n",
       "    }\n",
       "\n",
       "    .dataframe tbody tr th {\n",
       "        vertical-align: top;\n",
       "    }\n",
       "\n",
       "    .dataframe thead th {\n",
       "        text-align: right;\n",
       "    }\n",
       "</style>\n",
       "<table border=\"1\" class=\"dataframe\">\n",
       "  <thead>\n",
       "    <tr style=\"text-align: right;\">\n",
       "      <th></th>\n",
       "      <th>YEAR</th>\n",
       "      <th>WEEK</th>\n",
       "      <th>% WEIGHTED ILI</th>\n",
       "      <th>%UNWEIGHTED ILI</th>\n",
       "      <th>AGE 0-4</th>\n",
       "      <th>AGE 5-24</th>\n",
       "      <th>AGE 65</th>\n",
       "      <th>ILITOTAL</th>\n",
       "      <th>NUM. OF PROVIDERS</th>\n",
       "      <th>TOTAL PATIENTS</th>\n",
       "    </tr>\n",
       "  </thead>\n",
       "  <tbody>\n",
       "    <tr>\n",
       "      <td>0</td>\n",
       "      <td>2004</td>\n",
       "      <td>40</td>\n",
       "      <td>0.982275</td>\n",
       "      <td>0.897159</td>\n",
       "      <td>877</td>\n",
       "      <td>1256</td>\n",
       "      <td>185</td>\n",
       "      <td>3171</td>\n",
       "      <td>1176</td>\n",
       "      <td>353449</td>\n",
       "    </tr>\n",
       "    <tr>\n",
       "      <td>1</td>\n",
       "      <td>2004</td>\n",
       "      <td>41</td>\n",
       "      <td>1.018210</td>\n",
       "      <td>1.022480</td>\n",
       "      <td>1071</td>\n",
       "      <td>1373</td>\n",
       "      <td>216</td>\n",
       "      <td>3631</td>\n",
       "      <td>1187</td>\n",
       "      <td>355116</td>\n",
       "    </tr>\n",
       "    <tr>\n",
       "      <td>2</td>\n",
       "      <td>2004</td>\n",
       "      <td>42</td>\n",
       "      <td>1.176800</td>\n",
       "      <td>1.062960</td>\n",
       "      <td>1240</td>\n",
       "      <td>1534</td>\n",
       "      <td>226</td>\n",
       "      <td>4019</td>\n",
       "      <td>1267</td>\n",
       "      <td>378094</td>\n",
       "    </tr>\n",
       "    <tr>\n",
       "      <td>3</td>\n",
       "      <td>2004</td>\n",
       "      <td>43</td>\n",
       "      <td>1.301210</td>\n",
       "      <td>1.146960</td>\n",
       "      <td>1190</td>\n",
       "      <td>1671</td>\n",
       "      <td>285</td>\n",
       "      <td>4369</td>\n",
       "      <td>1293</td>\n",
       "      <td>380921</td>\n",
       "    </tr>\n",
       "    <tr>\n",
       "      <td>4</td>\n",
       "      <td>2004</td>\n",
       "      <td>44</td>\n",
       "      <td>1.277460</td>\n",
       "      <td>1.204950</td>\n",
       "      <td>1327</td>\n",
       "      <td>1718</td>\n",
       "      <td>291</td>\n",
       "      <td>4551</td>\n",
       "      <td>1302</td>\n",
       "      <td>377692</td>\n",
       "    </tr>\n",
       "    <tr>\n",
       "      <td>...</td>\n",
       "      <td>...</td>\n",
       "      <td>...</td>\n",
       "      <td>...</td>\n",
       "      <td>...</td>\n",
       "      <td>...</td>\n",
       "      <td>...</td>\n",
       "      <td>...</td>\n",
       "      <td>...</td>\n",
       "      <td>...</td>\n",
       "      <td>...</td>\n",
       "    </tr>\n",
       "    <tr>\n",
       "      <td>804</td>\n",
       "      <td>2020</td>\n",
       "      <td>10</td>\n",
       "      <td>5.130780</td>\n",
       "      <td>5.290100</td>\n",
       "      <td>13581</td>\n",
       "      <td>25957</td>\n",
       "      <td>5586</td>\n",
       "      <td>77452</td>\n",
       "      <td>2853</td>\n",
       "      <td>1464094</td>\n",
       "    </tr>\n",
       "    <tr>\n",
       "      <td>805</td>\n",
       "      <td>2020</td>\n",
       "      <td>11</td>\n",
       "      <td>5.631160</td>\n",
       "      <td>6.345940</td>\n",
       "      <td>13834</td>\n",
       "      <td>27321</td>\n",
       "      <td>6603</td>\n",
       "      <td>88341</td>\n",
       "      <td>2769</td>\n",
       "      <td>1392087</td>\n",
       "    </tr>\n",
       "    <tr>\n",
       "      <td>806</td>\n",
       "      <td>2020</td>\n",
       "      <td>12</td>\n",
       "      <td>6.357030</td>\n",
       "      <td>7.450870</td>\n",
       "      <td>10612</td>\n",
       "      <td>17276</td>\n",
       "      <td>6925</td>\n",
       "      <td>77817</td>\n",
       "      <td>2697</td>\n",
       "      <td>1044402</td>\n",
       "    </tr>\n",
       "    <tr>\n",
       "      <td>807</td>\n",
       "      <td>2020</td>\n",
       "      <td>13</td>\n",
       "      <td>5.178310</td>\n",
       "      <td>6.391350</td>\n",
       "      <td>5064</td>\n",
       "      <td>8245</td>\n",
       "      <td>6393</td>\n",
       "      <td>52802</td>\n",
       "      <td>2561</td>\n",
       "      <td>826148</td>\n",
       "    </tr>\n",
       "    <tr>\n",
       "      <td>808</td>\n",
       "      <td>2020</td>\n",
       "      <td>14</td>\n",
       "      <td>3.864320</td>\n",
       "      <td>5.022800</td>\n",
       "      <td>2307</td>\n",
       "      <td>4737</td>\n",
       "      <td>5236</td>\n",
       "      <td>35539</td>\n",
       "      <td>2362</td>\n",
       "      <td>707553</td>\n",
       "    </tr>\n",
       "  </tbody>\n",
       "</table>\n",
       "<p>809 rows × 10 columns</p>\n",
       "</div>"
      ],
      "text/plain": [
       "     YEAR  WEEK  % WEIGHTED ILI  %UNWEIGHTED ILI  AGE 0-4  AGE 5-24  AGE 65  \\\n",
       "0    2004    40        0.982275         0.897159      877      1256     185   \n",
       "1    2004    41        1.018210         1.022480     1071      1373     216   \n",
       "2    2004    42        1.176800         1.062960     1240      1534     226   \n",
       "3    2004    43        1.301210         1.146960     1190      1671     285   \n",
       "4    2004    44        1.277460         1.204950     1327      1718     291   \n",
       "..    ...   ...             ...              ...      ...       ...     ...   \n",
       "804  2020    10        5.130780         5.290100    13581     25957    5586   \n",
       "805  2020    11        5.631160         6.345940    13834     27321    6603   \n",
       "806  2020    12        6.357030         7.450870    10612     17276    6925   \n",
       "807  2020    13        5.178310         6.391350     5064      8245    6393   \n",
       "808  2020    14        3.864320         5.022800     2307      4737    5236   \n",
       "\n",
       "     ILITOTAL  NUM. OF PROVIDERS  TOTAL PATIENTS  \n",
       "0        3171               1176          353449  \n",
       "1        3631               1187          355116  \n",
       "2        4019               1267          378094  \n",
       "3        4369               1293          380921  \n",
       "4        4551               1302          377692  \n",
       "..        ...                ...             ...  \n",
       "804     77452               2853         1464094  \n",
       "805     88341               2769         1392087  \n",
       "806     77817               2697         1044402  \n",
       "807     52802               2561          826148  \n",
       "808     35539               2362          707553  \n",
       "\n",
       "[809 rows x 10 columns]"
      ]
     },
     "execution_count": 126,
     "metadata": {},
     "output_type": "execute_result"
    }
   ],
   "source": [
    "# Load Dataset\n",
    "ilinet_full = pd.DataFrame(pd.read_csv('ILINet.csv'))\n",
    "ilinet_full"
   ]
  },
  {
   "cell_type": "code",
   "execution_count": 127,
   "metadata": {},
   "outputs": [
    {
     "data": {
      "image/png": "[encoded data removed]",
      "text/plain": [
       "<Figure size 432x288 with 1 Axes>"
      ]
     },
     "metadata": {
      "needs_background": "light"
     },
     "output_type": "display_data"
    }
   ],
   "source": [
    "plt.plot(ilinet_full['ILITOTAL'])\n",
    "plt.show()"
   ]
  },
  {
   "cell_type": "code",
   "execution_count": 128,
   "metadata": {},
   "outputs": [
    {
     "data": {
      "text/plain": [
       "[<matplotlib.lines.Line2D at 0x1a2eb54590>]"
      ]
     },
     "execution_count": 128,
     "metadata": {},
     "output_type": "execute_result"
    },
    {
     "data": {
      "image/png": "[encoded data removed]",
      "text/plain": [
       "<Figure size 432x288 with 1 Axes>"
      ]
     },
     "metadata": {
      "needs_background": "light"
     },
     "output_type": "display_data"
    }
   ],
   "source": [
    "#normalize data\n",
    "scaler = MinMaxScaler(feature_range=(-1, 1))\n",
    "data=scaler.fit_transform(ilinet_full['ILITOTAL'].values.reshape(-1, 1))\n",
    "plt.plot(data)"
   ]
  },
  {
   "cell_type": "code",
   "execution_count": 129,
   "metadata": {},
   "outputs": [],
   "source": [
    "#MMR seasons start and end\n",
    "end_weeks=ilinet_full.index[ilinet_full['WEEK'] == 39].tolist()\n",
    "start_weeks=ilinet_full.index[ilinet_full['WEEK'] == 40].tolist()"
   ]
  },
  {
   "cell_type": "code",
   "execution_count": 130,
   "metadata": {},
   "outputs": [
    {
     "name": "stdout",
     "output_type": "stream",
     "text": [
      "757\n",
      "52\n"
     ]
    }
   ],
   "source": [
    "#729 is the end of the 2018 season\n",
    "train_data_size = 729\n",
    "\n",
    "# divide data into training and testing,\n",
    "train_data =data[0:-52]\n",
    "test_data =data[-52:]\n",
    "print(len(train_data))\n",
    "print(len(test_data))"
   ]
  },
  {
   "cell_type": "code",
   "execution_count": 131,
   "metadata": {},
   "outputs": [],
   "source": [
    "#divide data into windows\n",
    "train_data = torch.FloatTensor(train_data).view(-1)\n",
    "train_window = 52\n",
    "\n",
    "def create_inout_sequences(input_data, tw):\n",
    "    inout_seq = []\n",
    "    L = len(input_data)\n",
    "    for i in range(L-tw):\n",
    "        train_seq = input_data[i:i+tw]\n",
    "        train_label = input_data[i+tw:i+tw+1]\n",
    "        inout_seq.append((train_seq ,train_label))\n",
    "    return inout_seq\n",
    "\n",
    "train_inout_seq = create_inout_sequences(train_data, train_window)"
   ]
  },
  {
   "cell_type": "code",
   "execution_count": 132,
   "metadata": {},
   "outputs": [
    {
     "data": {
      "text/plain": [
       "52"
      ]
     },
     "execution_count": 132,
     "metadata": {},
     "output_type": "execute_result"
    }
   ],
   "source": [
    "len(train_inout_seq[1][0])"
   ]
  },
  {
   "cell_type": "code",
   "execution_count": 133,
   "metadata": {},
   "outputs": [
    {
     "data": {
      "text/plain": [
       "[<matplotlib.lines.Line2D at 0x1a2eb45050>]"
      ]
     },
     "execution_count": 133,
     "metadata": {},
     "output_type": "execute_result"
    },
    {
     "data": {
      "image/png": "[encoded data removed]",
      "text/plain": [
       "<Figure size 432x288 with 1 Axes>"
      ]
     },
     "metadata": {
      "needs_background": "light"
     },
     "output_type": "display_data"
    }
   ],
   "source": [
    "plt.plot(train_data)"
   ]
  },
  {
   "cell_type": "code",
   "execution_count": 145,
   "metadata": {},
   "outputs": [],
   "source": [
    "#define model\n",
    "class LSTM(nn.Module):\n",
    "    def __init__(self, input_size=1, hidden_layer_size=100, output_size=1):\n",
    "        super().__init__()\n",
    "        self.hidden_layer_size = hidden_layer_size\n",
    "\n",
    "        self.lstm = nn.LSTM(input_size, hidden_layer_size)\n",
    "\n",
    "        self.linear = nn.Linear(hidden_layer_size, output_size)\n",
    "\n",
    "        self.hidden_cell = (torch.zeros(1,1,self.hidden_layer_size),\n",
    "                            torch.zeros(1,1,self.hidden_layer_size))\n",
    "\n",
    "    def forward(self, input_seq):\n",
    "        lstm_out, self.hidden_cell = self.lstm(input_seq.view(len(input_seq) ,1, -1), self.hidden_cell)\n",
    "        predictions = self.linear(lstm_out.view(len(input_seq), -1))\n",
    "        return predictions[-1]"
   ]
  },
  {
   "cell_type": "code",
   "execution_count": 146,
   "metadata": {},
   "outputs": [],
   "source": [
    "model = LSTM()\n",
    "loss_function = nn.MSELoss()\n",
    "optimizer = torch.optim.Adam(model.parameters(), lr=0.001)"
   ]
  },
  {
   "cell_type": "code",
   "execution_count": 147,
   "metadata": {},
   "outputs": [
    {
     "name": "stdout",
     "output_type": "stream",
     "text": [
      "LSTM(\n",
      "  (lstm): LSTM(1, 100)\n",
      "  (linear): Linear(in_features=100, out_features=1, bias=True)\n",
      ")\n"
     ]
    }
   ],
   "source": [
    "print(model)"
   ]
  },
  {
   "cell_type": "markdown",
   "metadata": {},
   "source": [
    "# full season predictions from past seasons"
   ]
  },
  {
   "cell_type": "code",
   "execution_count": null,
   "metadata": {},
   "outputs": [
    {
     "name": "stdout",
     "output_type": "stream",
     "text": [
      "epoch:   1 loss: 0.00140527\n"
     ]
    }
   ],
   "source": [
    "epochs = 20#80#150\n",
    "\n",
    "losses=[]\n",
    "for i in range(epochs):\n",
    "    for seq, labels in train_inout_seq:\n",
    "        optimizer.zero_grad()\n",
    "        model.hidden_cell = (torch.zeros(1, 1, model.hidden_layer_size),\n",
    "                        torch.zeros(1, 1, model.hidden_layer_size))\n",
    "        y_pred = model(seq)\n",
    "\n",
    "        single_loss = loss_function(y_pred, labels)\n",
    "        losses.append(single_loss)\n",
    "        single_loss.backward()\n",
    "        optimizer.step()\n",
    "    if i%25 == 1:\n",
    "        print(f'epoch: {i:3} loss: {single_loss.item():10.8f}')\n",
    "\n",
    "print(f'epoch: {i:3} loss: {single_loss.item():10.10f}')"
   ]
  },
  {
   "cell_type": "code",
   "execution_count": null,
   "metadata": {},
   "outputs": [],
   "source": [
    "losses=[float(i) for i in losses]"
   ]
  },
  {
   "cell_type": "code",
   "execution_count": null,
   "metadata": {},
   "outputs": [],
   "source": [
    "lossperepoch  =[]\n",
    "sep=int(len(losses)/epochs)\n",
    "c=0\n",
    "for i in range(0,len(losses),sep):\n",
    "    lossperepoch.append(sum(losses[c*sep:c*sep+sep]))\n",
    "    c=c+1\n",
    "plt.plot(range(0,epochs),np.log(lossperepoch))\n",
    "np.argmin(lossperepoch)"
   ]
  },
  {
   "cell_type": "code",
   "execution_count": null,
   "metadata": {},
   "outputs": [],
   "source": [
    "fut_pred = 20\n",
    "test_data = torch.FloatTensor(test_data).view(-1)\n",
    "test_inputs = test_data[-train_window:].tolist()"
   ]
  },
  {
   "cell_type": "code",
   "execution_count": null,
   "metadata": {},
   "outputs": [],
   "source": [
    "model.eval()\n",
    "\n",
    "for i in range(fut_pred):\n",
    "    seq = torch.FloatTensor(test_inputs[-train_window:])\n",
    "    with torch.no_grad():\n",
    "        model.hidden = (torch.zeros(1, 1, model.hidden_layer_size),\n",
    "                        torch.zeros(1, 1, model.hidden_layer_size))\n",
    "        test_inputs.append(model(seq).item())"
   ]
  },
  {
   "cell_type": "code",
   "execution_count": null,
   "metadata": {},
   "outputs": [],
   "source": [
    "actual_predictions = np.array(test_inputs[train_window:])"
   ]
  },
  {
   "cell_type": "code",
   "execution_count": null,
   "metadata": {},
   "outputs": [],
   "source": [
    "x = np.arange(len(train_data), len(train_data)+fut_pred, 1)\n",
    "plt.plot(data[0:len(train_data)+fut_pred])\n",
    "plt.plot(x,actual_predictions)\n",
    "plt.show()"
   ]
  },
  {
   "cell_type": "code",
   "execution_count": null,
   "metadata": {},
   "outputs": [],
   "source": [
    "plt.plot(data[len(train_data):len(train_data)+fut_pred])\n",
    "plt.plot(actual_predictions)\n",
    "plt.show()"
   ]
  },
  {
   "cell_type": "markdown",
   "metadata": {},
   "source": [
    "Next steps:\n",
    "\n",
    "- use less training data to predict\n",
    "\n",
    "- smaller training window (try 10 instead of 52)\n",
    "\n",
    "- use hopitalization data instread of total case counts (easy change)\n"
   ]
  },
  {
   "cell_type": "markdown",
   "metadata": {},
   "source": [
    "# Smaller training window - 10"
   ]
  },
  {
   "cell_type": "code",
   "execution_count": null,
   "metadata": {},
   "outputs": [],
   "source": [
    "#smaller training window (try 10 instead of 52)\n",
    "train_window = 10\n",
    "train_inout_seq = create_inout_sequences(train_data, train_window)\n",
    "epochs = 20\n",
    "\n",
    "for i in range(epochs):\n",
    "    for seq, labels in train_inout_seq:\n",
    "        optimizer.zero_grad()\n",
    "        model.hidden_cell = (torch.zeros(1, 1, model.hidden_layer_size),\n",
    "                        torch.zeros(1, 1, model.hidden_layer_size))\n",
    "\n",
    "        y_pred = model(seq)\n",
    "\n",
    "        single_loss = loss_function(y_pred, labels)\n",
    "        single_loss.backward()\n",
    "        optimizer.step()\n",
    "\n",
    "    if i%25 == 1:\n",
    "        print(f'epoch: {i:3} loss: {single_loss.item():10.8f}')\n",
    "\n",
    "print(f'epoch: {i:3} loss: {single_loss.item():10.10f}')"
   ]
  },
  {
   "cell_type": "code",
   "execution_count": null,
   "metadata": {},
   "outputs": [],
   "source": [
    "fut_pred = 10\n",
    "\n",
    "test_inputs = train_data[-train_window:].tolist()"
   ]
  },
  {
   "cell_type": "code",
   "execution_count": null,
   "metadata": {},
   "outputs": [],
   "source": [
    "model.eval()\n",
    "\n",
    "for i in range(fut_pred):\n",
    "    seq = torch.FloatTensor(test_inputs[-train_window:])\n",
    "    with torch.no_grad():\n",
    "        model.hidden = (torch.zeros(1, 1, model.hidden_layer_size),\n",
    "                        torch.zeros(1, 1, model.hidden_layer_size))\n",
    "        test_inputs.append(model(seq).item())\n",
    "actual_predictions = np.array(test_inputs[train_window:])\n",
    "x = np.arange(len(train_data), len(train_data)+10, 1)\n",
    "print(x)\n",
    "plt.plot(data[len(train_data):len(train_data)+10])\n",
    "plt.plot(actual_predictions)\n",
    "plt.show()"
   ]
  },
  {
   "cell_type": "markdown",
   "metadata": {},
   "source": [
    "Predictions for smaller training window does not work\n",
    "- cannot capture time series relationships for this small a window"
   ]
  },
  {
   "cell_type": "markdown",
   "metadata": {},
   "source": [
    "# Use past two seasons data to predict next 10 weeks\n"
   ]
  },
  {
   "cell_type": "code",
   "execution_count": null,
   "metadata": {},
   "outputs": [],
   "source": [
    "#print(start_weeks)\n",
    "train_data = data[626:729+10]\n",
    "train_data = torch.FloatTensor(train_data).view(-1)\n",
    "train_window = 52\n",
    "train_inout_seq = create_inout_sequences(train_data, train_window)\n",
    "plt.plot(train_data)"
   ]
  },
  {
   "cell_type": "code",
   "execution_count": null,
   "metadata": {},
   "outputs": [],
   "source": [
    "epochs = 80\n",
    "\n",
    "for i in range(epochs):\n",
    "    for seq, labels in train_inout_seq:\n",
    "        optimizer.zero_grad()\n",
    "        model.hidden_cell = (torch.zeros(1, 1, model.hidden_layer_size),\n",
    "                        torch.zeros(1, 1, model.hidden_layer_size))\n",
    "\n",
    "        y_pred = model(seq)\n",
    "\n",
    "        single_loss = loss_function(y_pred, labels)\n",
    "        single_loss.backward()\n",
    "        optimizer.step()\n",
    "\n",
    "    if i%25 == 1:\n",
    "        print(f'epoch: {i:3} loss: {single_loss.item():10.8f}')\n",
    "\n",
    "print(f'epoch: {i:3} loss: {single_loss.item():10.10f}')"
   ]
  },
  {
   "cell_type": "code",
   "execution_count": null,
   "metadata": {},
   "outputs": [],
   "source": [
    "fut_pred = 10\n",
    "\n",
    "test_inputs = train_data[-train_window:].tolist()\n",
    "\n",
    "model.eval()\n",
    "\n",
    "for i in range(fut_pred):\n",
    "    seq = torch.FloatTensor(test_inputs[-train_window:])\n",
    "    with torch.no_grad():\n",
    "        model.hidden = (torch.zeros(1, 1, model.hidden_layer_size),\n",
    "                        torch.zeros(1, 1, model.hidden_layer_size))\n",
    "        test_inputs.append(model(seq).item())\n",
    "actual_predictions = np.array(test_inputs[train_window:])\n",
    "x = np.arange(len(train_data), len(train_data)+10, 1)\n"
   ]
  },
  {
   "cell_type": "code",
   "execution_count": null,
   "metadata": {},
   "outputs": [],
   "source": [
    "plt.plot(data[len(train_data):len(train_data)+10])\n",
    "plt.plot(actual_predictions)\n",
    "plt.show()"
   ]
  },
  {
   "cell_type": "markdown",
   "metadata": {},
   "source": [
    "Using less training data also gave less accurate predictions for next 10 weeks of current season."
   ]
  },
  {
   "cell_type": "markdown",
   "metadata": {},
   "source": [
    "# Use hopitalization data instread of total case counts \n",
    " (reflects the Rona data better)"
   ]
  },
  {
   "cell_type": "code",
   "execution_count": null,
   "metadata": {},
   "outputs": [],
   "source": [
    "#plt.plot(ilinet_full['% WEIGHTED ILI'].values)\n",
    "data=scaler.fit_transform(ilinet_full['% WEIGHTED ILI'].values.reshape(-1, 1))\n",
    "plt.plot(data)"
   ]
  },
  {
   "cell_type": "code",
   "execution_count": null,
   "metadata": {},
   "outputs": [],
   "source": [
    "train_data = data[0:729]\n",
    "train_data = torch.FloatTensor(train_data).view(-1)\n",
    "train_window = 52\n",
    "train_inout_seq = create_inout_sequences(train_data, train_window)"
   ]
  },
  {
   "cell_type": "code",
   "execution_count": null,
   "metadata": {},
   "outputs": [],
   "source": [
    "epochs = 10\n",
    "\n",
    "for i in range(epochs):\n",
    "    for seq, labels in train_inout_seq:\n",
    "        optimizer.zero_grad()\n",
    "        model.hidden_cell = (torch.zeros(1, 1, model.hidden_layer_size),\n",
    "                        torch.zeros(1, 1, model.hidden_layer_size))\n",
    "\n",
    "        y_pred = model(seq)\n",
    "\n",
    "        single_loss = loss_function(y_pred, labels)\n",
    "        single_loss.backward()\n",
    "        optimizer.step()\n",
    "\n",
    "    if i%25 == 1:\n",
    "        print(f'epoch: {i:3} loss: {single_loss.item():10.8f}')\n",
    "\n",
    "print(f'epoch: {i:3} loss: {single_loss.item():10.10f}')"
   ]
  },
  {
   "cell_type": "code",
   "execution_count": null,
   "metadata": {},
   "outputs": [],
   "source": [
    "fut_pred = 10\n",
    "\n",
    "test_inputs = train_data[-train_window:].tolist()\n",
    "\n",
    "model.eval()\n",
    "\n",
    "for i in range(fut_pred):\n",
    "    seq = torch.FloatTensor(test_inputs[-train_window:])\n",
    "    with torch.no_grad():\n",
    "        model.hidden = (torch.zeros(1, 1, model.hidden_layer_size),\n",
    "                        torch.zeros(1, 1, model.hidden_layer_size))\n",
    "        test_inputs.append(model(seq).item())\n",
    "actual_predictions = np.array(test_inputs[train_window:])\n",
    "x = np.arange(len(train_data), len(train_data)+10, 1)\n",
    "#print(x)\n",
    "#plt.plot(data[0:len(train_data)+10])\n",
    "#plt.plot(x,actual_predictions)\n",
    "#plt.show()"
   ]
  },
  {
   "cell_type": "code",
   "execution_count": null,
   "metadata": {},
   "outputs": [],
   "source": [
    "plt.plot(data[len(train_data):len(train_data)+10])\n",
    "plt.plot(actual_predictions)\n",
    "plt.show()"
   ]
  },
  {
   "cell_type": "markdown",
   "metadata": {},
   "source": [
    " # testing"
   ]
  },
  {
   "cell_type": "code",
   "execution_count": null,
   "metadata": {},
   "outputs": [],
   "source": [
    "train_data = data[0:round(len(data)*.7)]\n",
    "test_data = data[round(len(data)*.7):]\n",
    "train_data = torch.FloatTensor(train_data).view(-1)\n",
    "test_data = torch.FloatTensor(test_data).view(-1)\n",
    "train_window = 52\n",
    "train_inout_seq = create_inout_sequences(train_data, train_window)\n"
   ]
  },
  {
   "cell_type": "code",
   "execution_count": null,
   "metadata": {},
   "outputs": [],
   "source": [
    "epochs = 25\n",
    "\n",
    "for i in range(epochs):\n",
    "    for seq, labels in train_inout_seq:\n",
    "        optimizer.zero_grad()\n",
    "        model.hidden_cell = (torch.zeros(1, 1, model.hidden_layer_size),\n",
    "                        torch.zeros(1, 1, model.hidden_layer_size))\n",
    "\n",
    "        y_pred = model(seq)\n",
    "\n",
    "        single_loss = loss_function(y_pred, labels)\n",
    "        single_loss.backward()\n",
    "        optimizer.step()\n",
    "\n",
    "    if i%25 == 1:\n",
    "        print(f'epoch: {i:3} loss: {single_loss.item():10.8f}')\n",
    "\n",
    "print(f'epoch: {i:3} loss: {single_loss.item():10.10f}')"
   ]
  },
  {
   "cell_type": "code",
   "execution_count": null,
   "metadata": {
    "scrolled": true
   },
   "outputs": [],
   "source": [
    "#making predictions on training data\n",
    "fut_pred = 10\n",
    "\n",
    "test_inputs = train_data[-train_window:].tolist()\n",
    "\n",
    "model.eval()\n",
    "\n",
    "for i in range(fut_pred):\n",
    "    seq = torch.FloatTensor(test_inputs[-train_window:])\n",
    "    with torch.no_grad():\n",
    "        model.hidden = (torch.zeros(1, 1, model.hidden_layer_size),\n",
    "                        torch.zeros(1, 1, model.hidden_layer_size))\n",
    "        test_inputs.append(model(seq).item())\n",
    "actual_predictions = np.array(test_inputs[train_window:])\n",
    "x = np.arange(len(train_data), len(train_data)+10, 1)\n",
    "print(x)\n",
    "plt.plot(data[len(train_data):len(train_data)+10])\n",
    "plt.plot(actual_predictions)\n",
    "plt.show()"
   ]
  },
  {
   "cell_type": "code",
   "execution_count": null,
   "metadata": {},
   "outputs": [],
   "source": [
    "#making predictions on testing data\n",
    "fut_pred = 10\n",
    "\n",
    "test_inputs = test_data[-train_window:].tolist()\n",
    "\n",
    "model.eval()\n",
    "\n",
    "for i in range(fut_pred):\n",
    "    seq = torch.FloatTensor(test_inputs[-train_window:])\n",
    "    with torch.no_grad():\n",
    "        model.hidden = (torch.zeros(1, 1, model.hidden_layer_size),\n",
    "                        torch.zeros(1, 1, model.hidden_layer_size))\n",
    "        test_inputs.append(model(seq).item())\n",
    "actual_predictions = np.array(test_inputs[train_window:])\n",
    "x = np.arange(len(test_data), len(test_data)+10, 1)\n",
    "print(x)\n",
    "plt.plot(data[len(test_data):len(test_data)+10])\n",
    "plt.plot(actual_predictions)\n",
    "plt.show()"
   ]
  },
  {
   "cell_type": "markdown",
   "metadata": {},
   "source": [
    " # Conclusions for these steps\n",
    " - The LSTM network needs lots of data to make decent predictions for next 10 weeks\n",
    " - Was able to predict hospitalization data trend\n",
    " - Instead of national data, use state level for more windows to train with\n",
    " - try a more sophisticated model - seq2seq"
   ]
  },
  {
   "cell_type": "markdown",
   "metadata": {},
   "source": [
    "# Using state data"
   ]
  },
  {
   "cell_type": "code",
   "execution_count": null,
   "metadata": {},
   "outputs": [],
   "source": [
    "ilinet_full_state = pd.DataFrame(pd.read_csv('ILINet_mod_state.csv'))\n",
    "ilinet_full_state"
   ]
  },
  {
   "cell_type": "code",
   "execution_count": null,
   "metadata": {},
   "outputs": [],
   "source": [
    "#remove missing data\n",
    "FL=ilinet_full_state.index[ilinet_full_state['REGION'] == 'Florida'].tolist()\n",
    "ilinet_full_state= ilinet_full_state[~ilinet_full_state.index.isin(FL)]\n",
    "CM=ilinet_full_state.index[ilinet_full_state['REGION'] == 'Commonwealth of the Northern Mariana Islands'].tolist()\n",
    "ilinet_full_state= ilinet_full_state[~ilinet_full_state.index.isin(CM)]"
   ]
  },
  {
   "cell_type": "code",
   "execution_count": null,
   "metadata": {},
   "outputs": [],
   "source": [
    "#Arrange by state\n",
    "region_names =ilinet_full_state['REGION'][0:51]#0:51\n",
    "df = pd.DataFrame(columns = region_names)\n",
    "for region in region_names:\n",
    "    indices = ilinet_full_state.index[ilinet_full_state['REGION'] == region].tolist()\n",
    "    state = ilinet_full_state[ilinet_full_state.index.isin(indices)][\"%UNWEIGHTED ILI\"].values\n",
    "    state = [float(i) for i in state]\n",
    "    df[region]=state"
   ]
  },
  {
   "cell_type": "code",
   "execution_count": null,
   "metadata": {},
   "outputs": [],
   "source": [
    "df"
   ]
  },
  {
   "cell_type": "code",
   "execution_count": null,
   "metadata": {},
   "outputs": [],
   "source": [
    "#create list with all data\n",
    "data = []\n",
    "for region in region_names:\n",
    "    data = data + df[region].values.tolist()"
   ]
  },
  {
   "cell_type": "code",
   "execution_count": null,
   "metadata": {},
   "outputs": [],
   "source": [
    "train_data = data[0:round(len(data)*.7)]\n",
    "test_data = data[round(len(data)*.7):]\n",
    "train_data = torch.FloatTensor(train_data).view(-1)\n",
    "test_data = torch.FloatTensor(test_data).view(-1)\n",
    "train_window = 52\n",
    "train_inout_seq = create_inout_sequences(train_data, train_window)"
   ]
  },
  {
   "cell_type": "code",
   "execution_count": null,
   "metadata": {},
   "outputs": [],
   "source": [
    "epochs = 25\n",
    "\n",
    "for i in range(epochs):\n",
    "    for seq, labels in train_inout_seq:\n",
    "        optimizer.zero_grad()\n",
    "        model.hidden_cell = (torch.zeros(1, 1, model.hidden_layer_size),\n",
    "                        torch.zeros(1, 1, model.hidden_layer_size))\n",
    "\n",
    "        y_pred = model(seq)\n",
    "\n",
    "        single_loss = loss_function(y_pred, labels)\n",
    "        single_loss.backward()\n",
    "        optimizer.step()\n",
    "\n",
    "    if i%25 == 1:\n",
    "        print(f'epoch: {i:3} loss: {single_loss.item():10.8f}')\n",
    "\n",
    "print(f'epoch: {i:3} loss: {single_loss.item():10.10f}')"
   ]
  },
  {
   "cell_type": "code",
   "execution_count": null,
   "metadata": {},
   "outputs": [],
   "source": [
    "#making predictions on training data\n",
    "fut_pred = 10\n",
    "\n",
    "test_inputs = train_data[-train_window:].tolist()\n",
    "\n",
    "model.eval()\n",
    "\n",
    "for i in range(fut_pred):\n",
    "    seq = torch.FloatTensor(test_inputs[-train_window:])\n",
    "    with torch.no_grad():\n",
    "        model.hidden = (torch.zeros(1, 1, model.hidden_layer_size),\n",
    "                        torch.zeros(1, 1, model.hidden_layer_size))\n",
    "        test_inputs.append(model(seq).item())\n",
    "actual_predictions = np.array(test_inputs[train_window:])\n",
    "x = np.arange(len(train_data), len(train_data)+10, 1)\n",
    "\n",
    "plt.plot(data[len(train_data):len(train_data)+10])\n",
    "plt.plot(actual_predictions)\n",
    "plt.show()\n",
    "#plt.plot(data[0:len(train_data)+10])\n",
    "#plt.plot(x,actual_predictions)\n",
    "#plt.show()"
   ]
  },
  {
   "cell_type": "markdown",
   "metadata": {},
   "source": [
    "# Using first 10 weeks to predict peak intensity"
   ]
  },
  {
   "cell_type": "code",
   "execution_count": null,
   "metadata": {},
   "outputs": [],
   "source": [
    "ilinet_full_state = pd.DataFrame(pd.read_csv('ILINet_mod_state.csv'))\n",
    "#remove missing data\n",
    "FL=ilinet_full_state.index[ilinet_full_state['REGION'] == 'Florida'].tolist()\n",
    "ilinet_full_state= ilinet_full_state[~ilinet_full_state.index.isin(FL)]\n",
    "CM=ilinet_full_state.index[ilinet_full_state['REGION'] == 'Commonwealth of the Northern Mariana Islands'].tolist()\n",
    "ilinet_full_state= ilinet_full_state[~ilinet_full_state.index.isin(CM)]\n",
    "ilinet_full_state"
   ]
  },
  {
   "cell_type": "code",
   "execution_count": null,
   "metadata": {},
   "outputs": [],
   "source": [
    "#Arrange by state\n",
    "region_names =ilinet_full_state['REGION'][0:51]#0:51\n",
    "df = pd.DataFrame(index=range(len(ilinet_full_state)),columns = ilinet_full_state.columns)\n",
    "c = 0\n",
    "for region in region_names:\n",
    "    indices = ilinet_full_state.index[ilinet_full_state['REGION'] == region].tolist()\n",
    "    state = ilinet_full_state[ilinet_full_state.index.isin(indices)]\n",
    "    for col in ilinet_full_state.columns:\n",
    "        df[col][c:c+len(state)] = state[col].values\n",
    "    c = c+len(state)\n",
    "df = df[0:25296]\n",
    "df"
   ]
  },
  {
   "cell_type": "code",
   "execution_count": null,
   "metadata": {},
   "outputs": [],
   "source": [
    "#scale\n",
    "vals=[float(i) for i in ilinet_full_state['%UNWEIGHTED ILI'].values]\n",
    "avg = np.mean(vals)\n",
    "std = np.std(vals)\n",
    "#print((vals[0:100]-avg)/std)"
   ]
  },
  {
   "cell_type": "code",
   "execution_count": null,
   "metadata": {},
   "outputs": [],
   "source": [
    "# data set with key features\n",
    "X_data =[]\n",
    "y_data =[]\n",
    "\n",
    "for region in region_names:\n",
    "    \n",
    "    indices = df.index[df['REGION'] == region].tolist()\n",
    "    state = df[df.index.isin(indices)]\n",
    "    \n",
    "    end_weeks=state.index[state['WEEK'] == 39].tolist()\n",
    "    \n",
    "    start_weeks=state.index[state['WEEK'] ==40].tolist() \n",
    "    #get a season\n",
    "    for i in range(len(start_weeks)-1):\n",
    "        season = df[start_weeks[i]:end_weeks[i]+1]\n",
    "        \n",
    "        #extract key features\n",
    "        first = season['%UNWEIGHTED ILI'][0:10].values #might want to go back and make this >.02\n",
    "        first=[float(i) for i in first]\n",
    "        first = (first-avg)/std\n",
    "\n",
    "        \n",
    "        peak_intensity=float(season['%UNWEIGHTED ILI'].values.max())\n",
    "        peak_intensity = (peak_intensity-avg)/std\n",
    "        \n",
    "        #wk = season.index[season['%UNWEIGHTED ILI']== season['%UNWEIGHTED ILI'].values.max()]\n",
    "        #peak_wk=float(season['WEEK'][wk].values)/52\n",
    "        \n",
    "        X_data.append(first)\n",
    "        y_data.append([peak_intensity])\n",
    "        \n",
    "X=torch.tensor((X_data[:-1]), dtype=torch.float)\n",
    "y=torch.tensor((y_data[:-1]), dtype=torch.float)\n",
    "xPredicted = torch.tensor((X_data[-1]), dtype=torch.float) # 1 X 2 tensor\n",
    "yTrue = torch.tensor((y_data[-1]), dtype=torch.float)"
   ]
  },
  {
   "cell_type": "code",
   "execution_count": null,
   "metadata": {},
   "outputs": [],
   "source": [
    "# scale units\n",
    "X_max, _ = torch.max(X, 0)\n",
    "xPredicted_max, _ = torch.max(xPredicted, 0)\n",
    "\n",
    "X = torch.div(X, X_max)\n",
    "xPredicted = torch.div(xPredicted, xPredicted_max)\n",
    "\n",
    "y_max, _ = torch.max(y, 0)\n",
    "y = torch.div(y, y_max)"
   ]
  },
  {
   "cell_type": "code",
   "execution_count": null,
   "metadata": {},
   "outputs": [],
   "source": [
    "print(X.size())\n",
    "print(y.size())"
   ]
  },
  {
   "cell_type": "code",
   "execution_count": null,
   "metadata": {},
   "outputs": [],
   "source": [
    "class Neural_Network(nn.Module):\n",
    "    def __init__(self, ):\n",
    "        super(Neural_Network, self).__init__()\n",
    "        # parameters\n",
    "        # TODO: parameters can be parameterized instead of declaring them here\n",
    "        self.inputSize = 10\n",
    "        self.outputSize = 1\n",
    "        self.hiddenSize = 10\n",
    "        \n",
    "        # weights\n",
    "        self.W1 = torch.randn(self.inputSize, self.hiddenSize) # 2 X 3 tensor\n",
    "        self.W2 = torch.randn(self.hiddenSize, self.outputSize) # 3 X 1 tensor\n",
    "        \n",
    "    def forward(self, X):\n",
    "        self.z = torch.matmul(X, self.W1) # 3 X 3 \".dot\" does not broadcast in PyTorch\n",
    "        self.z2 = self.sigmoid(self.z) # activation function\n",
    "        self.z3 = torch.matmul(self.z2, self.W2)\n",
    "        o = self.sigmoid(self.z3) # final activation function\n",
    "        return o\n",
    "        \n",
    "    def sigmoid(self, s):\n",
    "        return 1 / (1 + torch.exp(-s))\n",
    "    \n",
    "    def sigmoidPrime(self, s):\n",
    "        # derivative of sigmoid\n",
    "        return s * (1 - s)\n",
    "    \n",
    "    def backward(self, X, y, o):\n",
    "        self.o_error = y - o # error in output\n",
    "        self.o_delta = self.o_error * self.sigmoidPrime(o) # derivative of sig to error\n",
    "        self.z2_error = torch.matmul(self.o_delta, torch.t(self.W2))\n",
    "        self.z2_delta = self.z2_error * self.sigmoidPrime(self.z2)\n",
    "        self.W1 += torch.matmul(torch.t(X), self.z2_delta)\n",
    "        self.W2 += torch.matmul(torch.t(self.z2), self.o_delta)\n",
    "        \n",
    "    def train(self, X, y):\n",
    "        # forward + backward pass for training\n",
    "        o = self.forward(X)\n",
    "        self.backward(X, y, o)\n",
    "        \n",
    "    def saveWeights(self, model):\n",
    "        # we will use the PyTorch internal storage functions\n",
    "        torch.save(model, \"NN\")\n",
    "        # you can reload model with all the weights and so forth with:\n",
    "        # torch.load(\"NN\")\n",
    "        \n",
    "    def predict(self):\n",
    "        print (\"Predicted data based on trained weights: \")\n",
    "        print (\"Input (scaled): \\n\" + str(xPredicted))\n",
    "        print (\"Output: \\n\" + str(self.forward(xPredicted)))\n",
    "        print(\"True Value: \\n\" + str(yTrue))"
   ]
  },
  {
   "cell_type": "code",
   "execution_count": null,
   "metadata": {},
   "outputs": [],
   "source": [
    "NN = Neural_Network()\n",
    "for i in range(1000):  # trains the NN 1,000 times\n",
    "    #print (\"#\" + str(i) + \" Loss: \" + str(torch.mean((y - NN(X))**2).detach().item()))  # mean sum squared loss\n",
    "    NN.train(X, y)\n",
    "NN.saveWeights(NN)\n",
    "NN.predict()"
   ]
  },
  {
   "cell_type": "code",
   "execution_count": null,
   "metadata": {},
   "outputs": [],
   "source": []
  }
 ],
 "metadata": {
  "kernelspec": {
   "display_name": "Python 3",
   "language": "python",
   "name": "python3"
  },
  "language_info": {
   "codemirror_mode": {
    "name": "ipython",
    "version": 3
   },
   "file_extension": ".py",
   "mimetype": "text/x-python",
   "name": "python",
   "nbconvert_exporter": "python",
   "pygments_lexer": "ipython3",
   "version": "3.7.4"
  }
 },
 "nbformat": 4,
 "nbformat_minor": 2
}
